{
 "cells": [
  {
   "cell_type": "code",
   "execution_count": 1,
   "id": "52f7c542-af76-4a63-8971-ecad6b2541c3",
   "metadata": {},
   "outputs": [],
   "source": [
    "# Cell 1: basic imports\n",
    "import pandas as pd\n",
    "import numpy as np\n",
    "import matplotlib.pyplot as plt\n",
    "%matplotlib inline\n",
    "from sklearn.model_selection import train_test_split, cross_val_score\n",
    "from sklearn.linear_model import LinearRegression\n",
    "from sklearn.pipeline import Pipeline\n",
    "from sklearn.preprocessing import StandardScaler\n",
    "from sklearn.metrics import mean_absolute_error, mean_squared_error, r2_score\n",
    "import joblib\n"
   ]
  },
  {
   "cell_type": "code",
   "execution_count": 2,
   "id": "f3aded7c-bc37-472e-92cf-6849dff01ac8",
   "metadata": {},
   "outputs": [],
   "source": [
    "df = pd.read_csv('houses.csv')"
   ]
  },
  {
   "cell_type": "code",
   "execution_count": 3,
   "id": "556c0c50-8fe8-4739-83c4-bb1bf5159bd2",
   "metadata": {},
   "outputs": [
    {
     "data": {
      "text/html": [
       "<div>\n",
       "<style scoped>\n",
       "    .dataframe tbody tr th:only-of-type {\n",
       "        vertical-align: middle;\n",
       "    }\n",
       "\n",
       "    .dataframe tbody tr th {\n",
       "        vertical-align: top;\n",
       "    }\n",
       "\n",
       "    .dataframe thead th {\n",
       "        text-align: right;\n",
       "    }\n",
       "</style>\n",
       "<table border=\"1\" class=\"dataframe\">\n",
       "  <thead>\n",
       "    <tr style=\"text-align: right;\">\n",
       "      <th></th>\n",
       "      <th>area</th>\n",
       "      <th>price</th>\n",
       "    </tr>\n",
       "  </thead>\n",
       "  <tbody>\n",
       "    <tr>\n",
       "      <th>0</th>\n",
       "      <td>2600</td>\n",
       "      <td>550000</td>\n",
       "    </tr>\n",
       "    <tr>\n",
       "      <th>1</th>\n",
       "      <td>3000</td>\n",
       "      <td>565000</td>\n",
       "    </tr>\n",
       "    <tr>\n",
       "      <th>2</th>\n",
       "      <td>3200</td>\n",
       "      <td>610000</td>\n",
       "    </tr>\n",
       "    <tr>\n",
       "      <th>3</th>\n",
       "      <td>3600</td>\n",
       "      <td>680000</td>\n",
       "    </tr>\n",
       "    <tr>\n",
       "      <th>4</th>\n",
       "      <td>4000</td>\n",
       "      <td>725000</td>\n",
       "    </tr>\n",
       "  </tbody>\n",
       "</table>\n",
       "</div>"
      ],
      "text/plain": [
       "   area  price \n",
       "0  2600  550000\n",
       "1  3000  565000\n",
       "2  3200  610000\n",
       "3  3600  680000\n",
       "4  4000  725000"
      ]
     },
     "execution_count": 3,
     "metadata": {},
     "output_type": "execute_result"
    }
   ],
   "source": [
    "df"
   ]
  },
  {
   "cell_type": "code",
   "execution_count": 5,
   "id": "0a965aa7-de21-4f79-bc61-ba8c16de2f9d",
   "metadata": {},
   "outputs": [
    {
     "name": "stdout",
     "output_type": "stream",
     "text": [
      "Rows: 300\n"
     ]
    },
    {
     "data": {
      "text/html": [
       "<div>\n",
       "<style scoped>\n",
       "    .dataframe tbody tr th:only-of-type {\n",
       "        vertical-align: middle;\n",
       "    }\n",
       "\n",
       "    .dataframe tbody tr th {\n",
       "        vertical-align: top;\n",
       "    }\n",
       "\n",
       "    .dataframe thead th {\n",
       "        text-align: right;\n",
       "    }\n",
       "</style>\n",
       "<table border=\"1\" class=\"dataframe\">\n",
       "  <thead>\n",
       "    <tr style=\"text-align: right;\">\n",
       "      <th></th>\n",
       "      <th>Area</th>\n",
       "      <th>Price</th>\n",
       "    </tr>\n",
       "  </thead>\n",
       "  <tbody>\n",
       "    <tr>\n",
       "      <th>0</th>\n",
       "      <td>1498.5</td>\n",
       "      <td>3849896.0</td>\n",
       "    </tr>\n",
       "    <tr>\n",
       "      <th>1</th>\n",
       "      <td>3342.3</td>\n",
       "      <td>8403622.0</td>\n",
       "    </tr>\n",
       "    <tr>\n",
       "      <th>2</th>\n",
       "      <td>2642.4</td>\n",
       "      <td>6877516.0</td>\n",
       "    </tr>\n",
       "    <tr>\n",
       "      <th>3</th>\n",
       "      <td>2215.7</td>\n",
       "      <td>5689964.0</td>\n",
       "    </tr>\n",
       "    <tr>\n",
       "      <th>4</th>\n",
       "      <td>799.3</td>\n",
       "      <td>1936239.0</td>\n",
       "    </tr>\n",
       "  </tbody>\n",
       "</table>\n",
       "</div>"
      ],
      "text/plain": [
       "     Area      Price\n",
       "0  1498.5  3849896.0\n",
       "1  3342.3  8403622.0\n",
       "2  2642.4  6877516.0\n",
       "3  2215.7  5689964.0\n",
       "4   799.3  1936239.0"
      ]
     },
     "execution_count": 5,
     "metadata": {},
     "output_type": "execute_result"
    }
   ],
   "source": [
    "\n",
    "\n",
    "USE_YOUR_CSV = False  \n",
    "    df = pd.read_csv(\"house_prices.csv\")  \n",
    "    # normalize column names just in case\n",
    "    df.columns = [c.strip() for c in df.columns]\n",
    "    if 'Area' not in df.columns or 'Price' not in df.columns:\n",
    "        raise ValueError(\"CSV must contain 'Area' and 'Price' columns (case-sensitive).\")\n",
    "else:\n",
    "    np.random.seed(42)\n",
    "    area = np.random.uniform(300, 3500, 300).round(1)\n",
    "    price = (100000 + area * 2500 + np.random.normal(0, 80000, area.shape)).round(0)\n",
    "    df = pd.DataFrame({\"Area\": area, \"Price\": price})\n",
    "\n",
    "print(\"Rows:\", len(df))\n",
    "df.head()"
   ]
  },
  {
   "cell_type": "code",
   "execution_count": 7,
   "id": "3a842e38-18fd-4930-ae66-fa52600648f4",
   "metadata": {},
   "outputs": [
    {
     "name": "stdout",
     "output_type": "stream",
     "text": [
      "              Area         Price\n",
      "count   300.000000  3.000000e+02\n",
      "mean   1884.656333  4.810504e+06\n",
      "std     941.888814  2.362218e+06\n",
      "min     316.200000  8.130920e+05\n",
      "25%    1065.050000  2.717343e+06\n",
      "50%    1937.500000  4.989965e+06\n",
      "75%    2721.975000  6.861206e+06\n",
      "max    3468.200000  8.762590e+06\n"
     ]
    },
    {
     "data": {
      "image/png": "[encoded data removed]",
      "text/plain": [
       "<Figure size 800x500 with 1 Axes>"
      ]
     },
     "metadata": {},
     "output_type": "display_data"
    }
   ],
   "source": [
    "\n",
    "print(df.describe())\n",
    "plt.figure(figsize=(8,5))\n",
    "plt.scatter(df['Area'], df['Price'])\n",
    "plt.xlabel(\"Area (sq.ft)\")\n",
    "plt.ylabel(\"Price (₹)\")\n",
    "plt.title(\"Area vs Price\")\n",
    "plt.grid(True)\n",
    "plt.show()"
   ]
  },
  {
   "cell_type": "code",
   "execution_count": 8,
   "id": "a0765f3e-bb00-4438-94e9-f57922b33044",
   "metadata": {},
   "outputs": [
    {
     "name": "stdout",
     "output_type": "stream",
     "text": [
      "Train size: 240 Test size: 60\n"
     ]
    }
   ],
   "source": [
    "\n",
    "X = df[['Area']].values    \n",
    "y = df['Price'].values\n",
    "\n",
    "X_train, X_test, y_train, y_test = train_test_split(\n",
    "    X, y, test_size=0.20, random_state=7\n",
    ")\n",
    "\n",
    "print(\"Train size:\", X_train.shape[0], \"Test size:\", X_test.shape[0])"
   ]
  },
  {
   "cell_type": "code",
   "execution_count": 9,
   "id": "3f0e922b-4d31-4d56-a2c4-0dabc9a7b822",
   "metadata": {},
   "outputs": [
    {
     "name": "stdout",
     "output_type": "stream",
     "text": [
      "Model trained.\n"
     ]
    }
   ],
   "source": [
    "r\n",
    "pipeline = Pipeline([\n",
    "    (\"scaler\", StandardScaler()),   # scales Area; optional but good practice\n",
    "    (\"lr\", LinearRegression())\n",
    "])\n",
    "\n",
    "pipeline.fit(X_train, y_train)\n",
    "print(\"Model trained.\")"
   ]
  },
  {
   "cell_type": "code",
   "execution_count": 22,
   "id": "5f96411d-ee26-46fe-b81f-2376505f11fa",
   "metadata": {},
   "outputs": [
    {
     "name": "stdout",
     "output_type": "stream",
     "text": [
      "MAE: 65,140.41\n",
      "MSE: 6,369,454,161.86\n",
      "R^2: 0.9987\n"
     ]
    },
    {
     "data": {
      "text/html": [
       "<div>\n",
       "<style scoped>\n",
       "    .dataframe tbody tr th:only-of-type {\n",
       "        vertical-align: middle;\n",
       "    }\n",
       "\n",
       "    .dataframe tbody tr th {\n",
       "        vertical-align: top;\n",
       "    }\n",
       "\n",
       "    .dataframe thead th {\n",
       "        text-align: right;\n",
       "    }\n",
       "</style>\n",
       "<table border=\"1\" class=\"dataframe\">\n",
       "  <thead>\n",
       "    <tr style=\"text-align: right;\">\n",
       "      <th></th>\n",
       "      <th>Area</th>\n",
       "      <th>Price_actual</th>\n",
       "      <th>Price_pred</th>\n",
       "    </tr>\n",
       "  </thead>\n",
       "  <tbody>\n",
       "    <tr>\n",
       "      <th>0</th>\n",
       "      <td>353.1</td>\n",
       "      <td>986508.0</td>\n",
       "      <td>977033.0</td>\n",
       "    </tr>\n",
       "    <tr>\n",
       "      <th>1</th>\n",
       "      <td>377.8</td>\n",
       "      <td>998435.0</td>\n",
       "      <td>1038912.0</td>\n",
       "    </tr>\n",
       "    <tr>\n",
       "      <th>2</th>\n",
       "      <td>430.5</td>\n",
       "      <td>1048696.0</td>\n",
       "      <td>1170936.0</td>\n",
       "    </tr>\n",
       "    <tr>\n",
       "      <th>3</th>\n",
       "      <td>464.7</td>\n",
       "      <td>1194572.0</td>\n",
       "      <td>1256614.0</td>\n",
       "    </tr>\n",
       "    <tr>\n",
       "      <th>4</th>\n",
       "      <td>588.9</td>\n",
       "      <td>1435199.0</td>\n",
       "      <td>1567761.0</td>\n",
       "    </tr>\n",
       "    <tr>\n",
       "      <th>5</th>\n",
       "      <td>612.6</td>\n",
       "      <td>1641959.0</td>\n",
       "      <td>1627134.0</td>\n",
       "    </tr>\n",
       "    <tr>\n",
       "      <th>6</th>\n",
       "      <td>682.7</td>\n",
       "      <td>1741292.0</td>\n",
       "      <td>1802749.0</td>\n",
       "    </tr>\n",
       "    <tr>\n",
       "      <th>7</th>\n",
       "      <td>740.1</td>\n",
       "      <td>1860279.0</td>\n",
       "      <td>1946548.0</td>\n",
       "    </tr>\n",
       "    <tr>\n",
       "      <th>8</th>\n",
       "      <td>751.0</td>\n",
       "      <td>2042529.0</td>\n",
       "      <td>1973855.0</td>\n",
       "    </tr>\n",
       "    <tr>\n",
       "      <th>9</th>\n",
       "      <td>842.4</td>\n",
       "      <td>2154274.0</td>\n",
       "      <td>2202831.0</td>\n",
       "    </tr>\n",
       "    <tr>\n",
       "      <th>10</th>\n",
       "      <td>881.8</td>\n",
       "      <td>2266504.0</td>\n",
       "      <td>2301536.0</td>\n",
       "    </tr>\n",
       "    <tr>\n",
       "      <th>11</th>\n",
       "      <td>927.1</td>\n",
       "      <td>2367934.0</td>\n",
       "      <td>2415022.0</td>\n",
       "    </tr>\n",
       "  </tbody>\n",
       "</table>\n",
       "</div>"
      ],
      "text/plain": [
       "     Area  Price_actual  Price_pred\n",
       "0   353.1      986508.0    977033.0\n",
       "1   377.8      998435.0   1038912.0\n",
       "2   430.5     1048696.0   1170936.0\n",
       "3   464.7     1194572.0   1256614.0\n",
       "4   588.9     1435199.0   1567761.0\n",
       "5   612.6     1641959.0   1627134.0\n",
       "6   682.7     1741292.0   1802749.0\n",
       "7   740.1     1860279.0   1946548.0\n",
       "8   751.0     2042529.0   1973855.0\n",
       "9   842.4     2154274.0   2202831.0\n",
       "10  881.8     2266504.0   2301536.0\n",
       "11  927.1     2367934.0   2415022.0"
      ]
     },
     "execution_count": 22,
     "metadata": {},
     "output_type": "execute_result"
    }
   ],
   "source": [
    "\n",
    "y_pred = pipeline.predict(X_test)\n",
    "mae = mean_absolute_error(y_test, y_pred)\n",
    "mse = mean_squared_error(y_test, y_pred)\n",
    "r2 = r2_score(y_test, y_pred)\n",
    "\n",
    "print(f\"MAE: {mae:,.2f}\")\n",
    "print(f\"MSE: {mse:,.2f}\")\n",
    "print(f\"R^2: {r2:.4f}\")\n",
    "comp = pd.DataFrame({\"Area\": X_test.flatten(), \"Price_actual\": y_test, \"Price_pred\": np.round(y_pred,0)})\n",
    "comp = comp.sort_values(\"Area\").reset_index(drop=True)\n",
    "comp.head(12)"
   ]
  },
  {
   "cell_type": "code",
   "execution_count": 21,
   "id": "32829882-ce3a-46f9-8233-d061acf8238e",
   "metadata": {},
   "outputs": [
    {
     "data": {
      "image/png": "[encoded data removed]",
      "text/plain": [
       "<Figure size 800x500 with 1 Axes>"
      ]
     },
     "metadata": {},
     "output_type": "display_data"
    }
   ],
   "source": [
    "\n",
    "plt.figure(figsize=(8,5))\n",
    "plt.scatter(df['Area'], df['Price'], alpha=0.6, label=\"data\")\n",
    "area_range = np.linspace(df['Area'].min(), df['Area'].max(), 200).reshape(-1,1)\n",
    "price_line = pipeline.predict(area_range)\n",
    "plt.plot(area_range, price_line, linewidth=2, label=\"model\")\n",
    "plt.xlabel(\"Area (sq.ft)\")\n",
    "plt.ylabel(\"Price (₹)\")\n",
    "plt.title(\"Area vs Price with model\")\n",
    "plt.legend()\n",
    "plt.grid(True)\n",
    "plt.show()"
   ]
  },
  {
   "cell_type": "code",
   "execution_count": 19,
   "id": "c1c2b0c9-a276-4cf7-aa49-a869433f5091",
   "metadata": {},
   "outputs": [
    {
     "name": "stdout",
     "output_type": "stream",
     "text": [
      "Saved model to house_price_pipeline.pkl\n"
     ]
    }
   ],
   "source": [
    "\n",
    "MODEL_FILE = \"house_price_pipeline.pkl\"\n",
    "joblib.dump(pipeline, MODEL_FILE)\n",
    "print(\"Saved model to\", MODEL_FILE)"
   ]
  },
  {
   "cell_type": "code",
   "execution_count": 15,
   "id": "2d427a35-cd8f-41bc-9468-16598baee03a",
   "metadata": {},
   "outputs": [
    {
     "name": "stdout",
     "output_type": "stream",
     "text": [
      "Area 350 sqft -> Predicted Price: ₹969,267\n",
      "Area 750 sqft -> Predicted Price: ₹1,971,350\n",
      "Area 1200 sqft -> Predicted Price: ₹3,098,693\n",
      "Area 2000 sqft -> Predicted Price: ₹5,102,859\n"
     ]
    }
   ],
   "source": [
    "\n",
    "import joblib\n",
    "model = joblib.load(\"house_price_pipeline.pkl\")\n",
    "\n",
    "def predict_price(area_value):\n",
    "    arr = np.array([[area_value]])\n",
    "    pred = model.predict(arr)[0]\n",
    "    return float(pred)\n",
    "for a in [350, 750, 1200, 2000]:\n",
    "    print(f\"Area {a} sqft -> Predicted Price: ₹{predict_price(a):,.0f}\")"
   ]
  },
  {
   "cell_type": "code",
   "execution_count": null,
   "id": "0ed5955f-74f7-4577-8fa5-d03dde4c8918",
   "metadata": {},
   "outputs": [],
   "source": []
  }
 ],
 "metadata": {
  "kernelspec": {
   "display_name": "Python 3 (ipykernel)",
   "language": "python",
   "name": "python3"
  },
  "language_info": {
   "codemirror_mode": {
    "name": "ipython",
    "version": 3
   },
   "file_extension": ".py",
   "mimetype": "text/x-python",
   "name": "python",
   "nbconvert_exporter": "python",
   "pygments_lexer": "ipython3",
   "version": "3.13.5"
  }
 },
 "nbformat": 4,
 "nbformat_minor": 5
}
